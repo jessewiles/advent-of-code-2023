{
 "cells": [
  {
   "cell_type": "code",
   "execution_count": null,
   "id": "18df98ef-288a-4ff7-a7fe-437ff7435127",
   "metadata": {},
   "outputs": [],
   "source": [
    "content = str()\n",
    "with open(\"test-data.txt\", \"r\") as reader:\n",
    "    content = reader.read()\n",
    "\n",
    "coords = []\n",
    "for line in content:\n",
    "    "
   ]
  }
 ],
 "metadata": {
  "kernelspec": {
   "display_name": "Python 3 (ipykernel)",
   "language": "python",
   "name": "python3"
  },
  "language_info": {
   "codemirror_mode": {
    "name": "ipython",
    "version": 3
   },
   "file_extension": ".py",
   "mimetype": "text/x-python",
   "name": "python",
   "nbconvert_exporter": "python",
   "pygments_lexer": "ipython3",
   "version": "3.11.4"
  }
 },
 "nbformat": 4,
 "nbformat_minor": 5
}
